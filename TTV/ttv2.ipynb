{
 "cells": [
  {
   "cell_type": "code",
   "execution_count": null,
   "metadata": {},
   "outputs": [],
   "source": [
    "from TTVFit.ttvfit import *\n",
    "from TTVFit.lightcurve import *\n",
    "from TTVFit.getdata import *"
   ]
  },
  {
   "cell_type": "code",
   "execution_count": null,
   "metadata": {},
   "outputs": [],
   "source": [
    "indir = 'wasp-107b/'\n",
    "target_star = 'WASP-107'\n",
    "target = 'WASP-107b'\n",
    "period = 5.72148926\n",
    "IDs = ['1185o8','1280o1','1201o8','1224o3','1185o9']\n",
    "tess_path = 'TESS Timing data/WASP/WASP-107 b/tess_pytransit.txt'"
   ]
  },
  {
   "cell_type": "code",
   "execution_count": null,
   "metadata": {},
   "outputs": [],
   "source": [
    "GD = GetData(target,indir,period,IDs,)\n",
    "LC = LightCurve(target,indir,period)"
   ]
  },
  {
   "cell_type": "code",
   "execution_count": null,
   "metadata": {},
   "outputs": [],
   "source": [
    "time = GD.getTime()\n",
    "time"
   ]
  },
  {
   "cell_type": "code",
   "execution_count": null,
   "metadata": {},
   "outputs": [],
   "source": [
    "t = GD.getT('HST.xlsx','tess.csv',tess_path,target_star)\n",
    "t.loc[0,'Label'] = 'Ground'\n",
    "t.loc[1,'Label'] = 'K2'\n",
    "t"
   ]
  },
  {
   "cell_type": "code",
   "execution_count": null,
   "metadata": {},
   "outputs": [],
   "source": [
    "t_re = GD.checkDuplicates(t)\n",
    "t_re"
   ]
  },
  {
   "cell_type": "code",
   "execution_count": null,
   "metadata": {},
   "outputs": [],
   "source": [
    "RE = True\n",
    "if t_re is None:\n",
    "    RE = False\n",
    "if RE:\n",
    "    data = t_re.copy()\n",
    "else:\n",
    "    data = t.copy()"
   ]
  },
  {
   "cell_type": "code",
   "execution_count": null,
   "metadata": {},
   "outputs": [],
   "source": [
    "times0_pre_lin = 2456514.4115079916\n",
    "period_pre_lin = 5.721487908373708\n",
    "times0_pre = times0_pre_lin\n",
    "period_pre = period_pre_lin\n",
    "a = 0.005\n",
    "times0_est = [times0_pre - a, times0_pre + a,'U']\n",
    "b = 0.0001\n",
    "# period_est = [period_pre-b, period_pre+b,'U']\n",
    "period_est = [period_pre,b,'N']\n",
    "# omega_est = [0,2*np.pi,'U']\n",
    "omega_est = [2.93014,0.2,0,2*np.pi,'TN']\n",
    "domega_est = [1e-6,1e-3,'LU']\n",
    "# eccentricity_est = [1e-3,1e-1,'LU']\n",
    "eccentricity_est = [0.1875,0.002,0,1,'TN']\n",
    "\n",
    "precession_parameters = [\n",
    "    eccentricity_est,\n",
    "    omega_est,\n",
    "    domega_est,\n",
    "]\n",
    "\n",
    "sampler_parameters = {\n",
    "    'emcee':{\n",
    "        'nwalkers':32,\n",
    "        'nsteps':100000,\n",
    "        'nburnin':15000,\n",
    "    },\n",
    "    'dynesty':{\n",
    "        'nlive':1000,\n",
    "        'dlogz':0.001,\n",
    "    },\n",
    "    'dynamic_dynesty':{\n",
    "        'nlive_init':10000,\n",
    "        'dlogz_init':0.0001,\n",
    "    }\n",
    "}\n",
    "\n",
    "kind = 'Precession'\n",
    "rej_sigma = 5\n",
    "multiprocessing = True\n",
    "# sampler = 'emcee'\n",
    "# sampler = 'dynesty'\n",
    "sampler = 'dynamic_dynesty'\n",
    "parameters = [times0_est,period_est]\n",
    "parameter_names = [r'$t_0$',r'$Period$']\n",
    "\n",
    "parameters += precession_parameters\n",
    "parameter_names += [r'$eccentricity$',r'$\\omega[radian]$',r'$d\\omega/dE[radian/epoch]$']\n",
    "\n",
    "print('\\n'.join(['%s = %s'%(k,v) for k,v in zip(parameter_names,parameters)]))\n",
    "\n",
    "TTVFIT = TTVFit(data,period,parameters,parameter_names,kind,rej_sigma,multiprocessing=multiprocessing,sampler=sampler,sampler_parameters=sampler_parameters[sampler],lin_parameters=[times0_pre_lin,period_pre_lin])"
   ]
  },
  {
   "cell_type": "code",
   "execution_count": null,
   "metadata": {},
   "outputs": [],
   "source": [
    "suffix = '_%ssigma'%rej_sigma\n",
    "suffix += '_%s_%s_%s_%s'%(sampler,kind,target,parameters[-1])\n",
    "if RE:\n",
    "    suffix += '_reduced'\n",
    "# suffix += ''\n",
    "title = '%s Transit Timing Variation Analysis'%target\n",
    "samples, results = TTVFIT.Fit(indir+'/results/3/',suffix,title)"
   ]
  }
 ],
 "metadata": {
  "kernelspec": {
   "display_name": "work",
   "language": "python",
   "name": "python3"
  },
  "language_info": {
   "codemirror_mode": {
    "name": "ipython",
    "version": 3
   },
   "file_extension": ".py",
   "mimetype": "text/x-python",
   "name": "python",
   "nbconvert_exporter": "python",
   "pygments_lexer": "ipython3",
   "version": "3.12.4"
  }
 },
 "nbformat": 4,
 "nbformat_minor": 2
}
